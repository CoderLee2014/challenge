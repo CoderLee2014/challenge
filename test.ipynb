{
 "cells": [
  {
   "cell_type": "code",
   "execution_count": 35,
   "metadata": {
    "collapsed": false
   },
   "outputs": [
    {
     "name": "stdout",
     "output_type": "stream",
     "text": [
      "<class 'pandas.core.frame.DataFrame'>\n",
      "        Year  Month   Day  Day_Num  Minute  Hour         X         Y  \\\n",
      "0       12.0    5.0  13.0      2.0    53.0  23.0 -0.107902  0.007832   \n",
      "1       12.0    5.0  13.0      2.0    53.0  23.0 -0.107902  0.007832   \n",
      "2       12.0    5.0  13.0      2.0    33.0  23.0 -0.057541  0.064335   \n",
      "3       12.0    5.0  13.0      2.0    30.0  23.0 -0.144262  0.065338   \n",
      "4       12.0    5.0  13.0      2.0    30.0  23.0 -0.531112  0.001140   \n",
      "5       12.0    5.0  13.0      2.0    30.0  23.0  0.637950 -0.126046   \n",
      "6       12.0    5.0  13.0      2.0    30.0  23.0 -0.023408 -0.100422   \n",
      "7       12.0    5.0  13.0      2.0    30.0  23.0  1.691468 -0.095113   \n",
      "8       12.0    5.0  13.0      2.0     0.0  23.0 -2.819355  0.012215   \n",
      "9       12.0    5.0  13.0      2.0     0.0  23.0  0.116256  0.080503   \n",
      "10      12.0    5.0  13.0      2.0    58.0  22.0  0.116256  0.080503   \n",
      "11      12.0    5.0  13.0      2.0    30.0  22.0 -2.153504 -0.073001   \n",
      "12      12.0    5.0  13.0      2.0    30.0  22.0  0.336111  0.026228   \n",
      "13      12.0    5.0  13.0      2.0     6.0  22.0 -0.339273  0.029182   \n",
      "14      12.0    5.0  13.0      2.0     0.0  22.0  0.819409 -0.089924   \n",
      "15      12.0    5.0  13.0      2.0     0.0  22.0  1.282383 -0.060914   \n",
      "16      12.0    5.0  13.0      2.0     0.0  22.0  0.330079  0.028260   \n",
      "17      12.0    5.0  13.0      2.0    55.0  21.0  0.030801 -0.061717   \n",
      "18      12.0    5.0  13.0      2.0    40.0  21.0  1.193123 -0.070119   \n",
      "19      12.0    5.0  13.0      2.0    30.0  21.0  0.341531  0.025249   \n",
      "20      12.0    5.0  13.0      2.0    30.0  21.0 -0.882026 -0.062053   \n",
      "21      12.0    5.0  13.0      2.0    17.0  21.0  0.077234 -0.051847   \n",
      "22      12.0    5.0  13.0      2.0    11.0  21.0  0.341531  0.025249   \n",
      "23      12.0    5.0  13.0      2.0    11.0  21.0  0.341531  0.025249   \n",
      "24      12.0    5.0  13.0      2.0    10.0  21.0 -0.442542  0.063080   \n",
      "25      12.0    5.0  13.0      2.0     0.0  21.0  0.398872  0.032881   \n",
      "26      12.0    5.0  13.0      2.0     0.0  21.0 -0.276774  0.035824   \n",
      "27      12.0    5.0  13.0      2.0     0.0  21.0 -0.034259 -0.084186   \n",
      "28      12.0    5.0  13.0      2.0     0.0  21.0 -1.751260 -0.057128   \n",
      "29      12.0    5.0  13.0      2.0    56.0  20.0 -2.542389 -0.049252   \n",
      "...      ...    ...   ...      ...     ...   ...       ...       ...   \n",
      "878019   0.0    1.0   6.0      0.0    37.0   2.0  0.405979  0.024536   \n",
      "878020   0.0    1.0   6.0      0.0    32.0   2.0  0.065052  0.023945   \n",
      "878021   0.0    1.0   6.0      0.0    24.0   2.0 -0.282498 -0.007497   \n",
      "878022   0.0    1.0   6.0      0.0    16.0   2.0  0.102154 -0.016615   \n",
      "878023   0.0    1.0   6.0      0.0    15.0   2.0  0.188536  0.029035   \n",
      "878024   0.0    1.0   6.0      0.0     9.0   2.0 -0.499582  0.009769   \n",
      "878025   0.0    1.0   6.0      0.0     6.0   2.0  1.150000 -0.066419   \n",
      "878026   0.0    1.0   6.0      0.0     6.0   2.0  1.150000 -0.066419   \n",
      "878027   0.0    1.0   6.0      0.0     0.0   2.0  0.425255  0.025843   \n",
      "878028   0.0    1.0   6.0      0.0     0.0   2.0  0.405979  0.024536   \n",
      "878029   0.0    1.0   6.0      0.0    54.0   1.0 -0.388976  0.017889   \n",
      "878030   0.0    1.0   6.0      0.0    54.0   1.0 -0.388976  0.017889   \n",
      "878031   0.0    1.0   6.0      0.0    50.0   1.0  1.060813 -0.077540   \n",
      "878032   0.0    1.0   6.0      0.0    36.0   1.0 -0.013663  0.031652   \n",
      "878033   0.0    1.0   6.0      0.0    30.0   1.0  1.019584 -0.028950   \n",
      "878034   0.0    1.0   6.0      0.0    30.0   1.0  1.019584 -0.028950   \n",
      "878035   0.0    1.0   6.0      0.0    55.0   0.0 -0.277724  0.026285   \n",
      "878036   0.0    1.0   6.0      0.0    55.0   0.0 -0.277724  0.026285   \n",
      "878037   0.0    1.0   6.0      0.0    55.0   0.0 -0.277724  0.026285   \n",
      "878038   0.0    1.0   6.0      0.0    42.0   0.0  0.365612  0.034845   \n",
      "878039   0.0    1.0   6.0      0.0    40.0   0.0  0.063412  0.042804   \n",
      "878040   0.0    1.0   6.0      0.0    33.0   0.0  0.281454 -0.042320   \n",
      "878041   0.0    1.0   6.0      0.0    31.0   0.0 -1.659387  0.025240   \n",
      "878042   0.0    1.0   6.0      0.0    20.0   0.0  1.082160 -0.088547   \n",
      "878043   0.0    1.0   6.0      0.0    20.0   0.0  1.082160 -0.088547   \n",
      "878044   0.0    1.0   6.0      0.0    15.0   0.0 -1.199747 -0.124677   \n",
      "878045   0.0    1.0   6.0      0.0     1.0   0.0 -0.815292 -0.085518   \n",
      "878046   0.0    1.0   6.0      0.0     1.0   0.0  0.633404  0.020235   \n",
      "878047   0.0    1.0   6.0      0.0     1.0   0.0  1.057042  0.020983   \n",
      "878048   0.0    1.0   6.0      0.0     1.0   0.0  0.912272 -0.071808   \n",
      "\n",
      "        District_Num  Address_Num  Resolution_Num  \n",
      "0                0.0          1.0             0.0  \n",
      "1                0.0          1.0             0.0  \n",
      "2                0.0          1.0             0.0  \n",
      "3                0.0          0.0             1.0  \n",
      "4                1.0          0.0             1.0  \n",
      "5                2.0          0.0             1.0  \n",
      "6                2.0          1.0             1.0  \n",
      "7                3.0          1.0             1.0  \n",
      "8                4.0          0.0             1.0  \n",
      "9                5.0          1.0             1.0  \n",
      "10               5.0          1.0             1.0  \n",
      "11               6.0          0.0             1.0  \n",
      "12               7.0          1.0             1.0  \n",
      "13               0.0          1.0             1.0  \n",
      "14               3.0          0.0             1.0  \n",
      "15               3.0          0.0             1.0  \n",
      "16               7.0          1.0             1.0  \n",
      "17               2.0          1.0             1.0  \n",
      "18               3.0          1.0             0.0  \n",
      "19               7.0          0.0             1.0  \n",
      "20               2.0          0.0             1.0  \n",
      "21               2.0          0.0             1.0  \n",
      "22               7.0          0.0             1.0  \n",
      "23               7.0          0.0             1.0  \n",
      "24               0.0          1.0             1.0  \n",
      "25               7.0          0.0             1.0  \n",
      "26               0.0          0.0             1.0  \n",
      "27               2.0          0.0             1.0  \n",
      "28               6.0          1.0             1.0  \n",
      "29               6.0          0.0             1.0  \n",
      "...              ...          ...             ...  \n",
      "878019           9.0          1.0             2.0  \n",
      "878020           0.0          1.0             2.0  \n",
      "878021           0.0          1.0             9.0  \n",
      "878022           8.0          1.0             1.0  \n",
      "878023           7.0          0.0             1.0  \n",
      "878024           1.0          0.0             2.0  \n",
      "878025           3.0          1.0             0.0  \n",
      "878026           3.0          1.0             0.0  \n",
      "878027           9.0          0.0             0.0  \n",
      "878028           9.0          1.0             1.0  \n",
      "878029           7.0          0.0             0.0  \n",
      "878030           7.0          0.0             0.0  \n",
      "878031           3.0          1.0             1.0  \n",
      "878032           0.0          1.0             2.0  \n",
      "878033           4.0          0.0             2.0  \n",
      "878034           4.0          0.0             2.0  \n",
      "878035           0.0          0.0             1.0  \n",
      "878036           0.0          0.0             1.0  \n",
      "878037           0.0          0.0             1.0  \n",
      "878038           7.0          1.0             0.0  \n",
      "878039           0.0          1.0             2.0  \n",
      "878040           8.0          0.0             1.0  \n",
      "878041           4.0          1.0             2.0  \n",
      "878042           3.0          0.0             0.0  \n",
      "878043           3.0          0.0             0.0  \n",
      "878044           6.0          1.0             1.0  \n",
      "878045           2.0          0.0             1.0  \n",
      "878046           9.0          1.0             1.0  \n",
      "878047           9.0          1.0             1.0  \n",
      "878048           3.0          0.0             1.0  \n",
      "\n",
      "[878049 rows x 11 columns]\n"
     ]
    }
   ],
   "source": [
    "import numpy as np\n",
    "import pandas as pd\n",
    "from sklearn.ensemble import RandomForestClassifier\n",
    "from sklearn import preprocessing\n",
    "from sklearn.model_selection import cross_val_score\n",
    "from __future__ import division\n",
    "\n",
    "train = pd.read_csv('train.csv')\n",
    "\n",
    "weekdays = {'Monday':0., 'Tuesday':1., 'Wednesday':2., 'Thursday': 3., 'Friday':4., 'Saturday':5., 'Sunday':6.}\n",
    "categories = {c:i for i,c in enumerate(train['Category'].unique())}\n",
    "resolutions = {c:i for i,c in enumerate(train['Resolution'].unique())}\n",
    "cat_rev = {i:c for i,c in enumerate(train['Category'].unique())}\n",
    "districts = {c:i for i,c in enumerate(train['PdDistrict'].unique())}\n",
    "dis_rev = {i:c for i,c in enumerate(train['PdDistrict'].unique())}\n",
    "\n",
    "# Extract features from given information\n",
    "train['Hour'] = list(map(lambda x: float(int(x.split(' ')[1].split(':')[0])),\n",
    "                                  train.Dates))\n",
    "\n",
    "train['Minute'] = list(map(lambda x: float(int(x.split(' ')[1].split(':')[1])),\n",
    "                                  train.Dates))\n",
    "\n",
    "train['Month'] = list(map(lambda x: float(x.split(' ')[0].split('-')[1]), train.Dates))\n",
    "\n",
    "train['Year'] = list(map(lambda x: float(x.split(' ')[0].split('-')[0])-2003., train.Dates))\n",
    "\n",
    "\n",
    "train['Day'] = list(map(lambda x: float(x.split(' ')[0].split('-')[2]), train.Dates))\n",
    "\n",
    "train['Day_Num'] = [float(weekdays[w]) for w in train.DayOfWeek]\n",
    "\n",
    "train['District_Num'] = [float(districts[t]) for t in train.PdDistrict]\n",
    "\n",
    "train['Category_Num'] = [float(categories[t]) for t in train.Category]\n",
    "\n",
    "train['Resolution_Num'] = [float(resolutions[t]) for t in train.Resolution]\n",
    "\n",
    "# Center X,Y coordinates\n",
    "train['X'] = preprocessing.scale(list(map(lambda x: x+122.4194, train.X)))\n",
    "train['Y'] = preprocessing.scale(list(map(lambda x: x-37.7749, train.Y)))\n",
    "\n",
    "# Assign binary value to address by type\n",
    "def define_address(addr):\n",
    "    addr_type = 0.\n",
    "    # Address types:\n",
    "    #  Intersection: 1\n",
    "    #  Residence: 0\n",
    "    if '/' in addr and 'of' not in addr:\n",
    "        addr_type = 1.\n",
    "    else:\n",
    "        add_type = 0.\n",
    "    return addr_type\n",
    "    \n",
    "# Define address feature\n",
    "train['Address_Num'] = list(map(define_address, train.Address))\n",
    "\n",
    "# Feature selection\n",
    "X_loc = ['X', 'Y', 'District_Num', 'Address_Num']\n",
    "X_time = ['Minute', 'Hour']\n",
    "X_date = ['Year','Month', 'Day', 'Day_Num']\n",
    "X_resol = ['Resolution_Num']\n",
    "X_all = X_date + X_time + X_loc + X_resol\n",
    "\n",
    "# Category column we want to predict\n",
    "y = 'Category_Num'\n",
    "\n",
    "print type(train)\n",
    "print train[X_all]\n",
    "\n"
   ]
  },
  {
   "cell_type": "code",
   "execution_count": 36,
   "metadata": {
    "collapsed": false
   },
   "outputs": [
    {
     "name": "stdout",
     "output_type": "stream",
     "text": [
      "<type 'numpy.ndarray'>\n",
      "(878049, 11)\n"
     ]
    }
   ],
   "source": [
    "train_value = train[X_all].values\n",
    "print type(train_value)\n",
    "print train_value.shape"
   ]
  },
  {
   "cell_type": "code",
   "execution_count": 40,
   "metadata": {
    "collapsed": false
   },
   "outputs": [],
   "source": [
    "f_data = open(\"crime.data\",\"w\")\n",
    "for i in xrange(len(train_value)):\n",
    "    ex = ''\n",
    "    l = len(train_value[i])\n",
    "    c =0\n",
    "    for d in train_value[i]:\n",
    "        c+=1\n",
    "        if c!=l:\n",
    "            ex +=str(d)+\" \"\n",
    "        else: ex +=str(d)\n",
    "    print >> f_data,\"%s\"%(ex)\n",
    "f_data.close()"
   ]
  },
  {
   "cell_type": "code",
   "execution_count": 13,
   "metadata": {
    "collapsed": false
   },
   "outputs": [
    {
     "name": "stdout",
     "output_type": "stream",
     "text": [
      "878049\n"
     ]
    }
   ],
   "source": [
    "print len(train_value)"
   ]
  },
  {
   "cell_type": "code",
   "execution_count": 2,
   "metadata": {
    "collapsed": false
   },
   "outputs": [
    {
     "name": "stdout",
     "output_type": "stream",
     "text": [
      "{'KIDNAPPING': 19, 'WEAPON LAWS': 8, 'SECONDARY CODES': 15, 'WARRANTS': 0, 'PROSTITUTION': 23, 'EMBEZZLEMENT': 29, 'LOITERING': 31, 'SUICIDE': 30, 'DRIVING UNDER THE INFLUENCE': 21, 'SEX OFFENSES FORCIBLE': 22, 'ROBBERY': 6, 'BURGLARY': 9, 'SUSPICIOUS OCC': 10, 'FAMILY OFFENSES': 26, 'BRIBERY': 28, 'FORGERY/COUNTERFEITING': 12, 'BAD CHECKS': 35, 'DRUNKENNESS': 11, 'GAMBLING': 34, 'OTHER OFFENSES': 1, 'RECOVERED VEHICLE': 37, 'FRAUD': 18, 'ARSON': 25, 'DRUG/NARCOTIC': 13, 'TRESPASS': 16, 'LARCENY/THEFT': 2, 'VANDALISM': 4, 'NON-CRIMINAL': 5, 'EXTORTION': 33, 'PORNOGRAPHY/OBSCENE MAT': 38, 'LIQUOR LAWS': 27, 'SEX OFFENSES NON FORCIBLE': 32, 'TREA': 36, 'VEHICLE THEFT': 3, 'STOLEN PROPERTY': 14, 'ASSAULT': 7, 'MISSING PERSON': 17, 'DISORDERLY CONDUCT': 24, 'RUNAWAY': 20}\n",
      "39\n",
      "(884262, 15)\n",
      "(878049, 18)\n"
     ]
    }
   ],
   "source": [
    "print categories\n",
    "print len(categories)\n",
    "print test.shape\n",
    "print train.shape"
   ]
  },
  {
   "cell_type": "code",
   "execution_count": 13,
   "metadata": {
    "collapsed": false
   },
   "outputs": [
    {
     "name": "stdout",
     "output_type": "stream",
     "text": [
      "[ 7.  1.  2. ...,  1.  1.  2.]\n",
      "[ 0.20686121  0.23875795  0.22734908  0.18254709  0.07783776]\n"
     ]
    }
   ],
   "source": [
    "# Create random forest classifie\n",
    "clf = RandomForestClassifier(max_features=\"log2\", max_depth=11, n_estimators=24,\n",
    "                             min_samples_split=1000, oob_score=True)\n",
    "# Fit prediction\n",
    "clf.fit(train[X_all], train[y])\n",
    "pred = clf.predict_proba(test[X_all])\n",
    "pred_c = clf.predict(test[X_all])\n",
    "score = cross_val_score(clf, train[X_all], train[y], cv = 5)\n",
    "print pred_c\n",
    "print score\n"
   ]
  },
  {
   "cell_type": "code",
   "execution_count": 18,
   "metadata": {
    "collapsed": false
   },
   "outputs": [
    {
     "name": "stdout",
     "output_type": "stream",
     "text": [
      "(884262, 39)\n"
     ]
    }
   ],
   "source": [
    "print pred.shape"
   ]
  },
  {
   "cell_type": "code",
   "execution_count": 7,
   "metadata": {
    "collapsed": false
   },
   "outputs": [
    {
     "ename": "NameError",
     "evalue": "name 'pred' is not defined",
     "output_type": "error",
     "traceback": [
      "\u001b[0;31m---------------------------------------------------------------------------\u001b[0m",
      "\u001b[0;31mNameError\u001b[0m                                 Traceback (most recent call last)",
      "\u001b[0;32m<ipython-input-7-b9cb7289cab8>\u001b[0m in \u001b[0;36m<module>\u001b[0;34m()\u001b[0m\n\u001b[1;32m      5\u001b[0m \u001b[0mpred_r\u001b[0m \u001b[0;34m=\u001b[0m \u001b[0mclf_r\u001b[0m\u001b[0;34m.\u001b[0m\u001b[0mpredict_proba\u001b[0m\u001b[0;34m(\u001b[0m\u001b[0mtest\u001b[0m\u001b[0;34m[\u001b[0m\u001b[0mX_all\u001b[0m\u001b[0;34m]\u001b[0m\u001b[0;34m)\u001b[0m\u001b[0;34m\u001b[0m\u001b[0m\n\u001b[1;32m      6\u001b[0m \u001b[0mscore_r\u001b[0m \u001b[0;34m=\u001b[0m \u001b[0mcross_val_score\u001b[0m\u001b[0;34m(\u001b[0m\u001b[0mclf_r\u001b[0m\u001b[0;34m,\u001b[0m \u001b[0mtrain\u001b[0m\u001b[0;34m[\u001b[0m\u001b[0mX_all\u001b[0m\u001b[0;34m]\u001b[0m\u001b[0;34m,\u001b[0m \u001b[0mtrain\u001b[0m\u001b[0;34m[\u001b[0m\u001b[0my\u001b[0m\u001b[0;34m]\u001b[0m\u001b[0;34m,\u001b[0m \u001b[0mcv\u001b[0m \u001b[0;34m=\u001b[0m \u001b[0;36m5\u001b[0m\u001b[0;34m)\u001b[0m\u001b[0;34m\u001b[0m\u001b[0m\n\u001b[0;32m----> 7\u001b[0;31m \u001b[0;32mprint\u001b[0m \u001b[0mpred\u001b[0m\u001b[0;34m\u001b[0m\u001b[0m\n\u001b[0m\u001b[1;32m      8\u001b[0m \u001b[0;32mprint\u001b[0m \u001b[0mscore\u001b[0m\u001b[0;34m\u001b[0m\u001b[0m\n",
      "\u001b[0;31mNameError\u001b[0m: name 'pred' is not defined"
     ]
    }
   ],
   "source": [
    "# generate the random number and calculate the accuracy\n",
    "clf_r = RandomForestClassifier()\n",
    "# Fit prediction\n",
    "clf_r.fit(train[X_all], train[y])\n",
    "pred_r = clf_r.predict_proba(test[X_all])\n",
    "score_r = cross_val_score(clf_r, train[X_all], train[y], cv = 5)"
   ]
  },
  {
   "cell_type": "code",
   "execution_count": 8,
   "metadata": {
    "collapsed": false
   },
   "outputs": [
    {
     "name": "stdout",
     "output_type": "stream",
     "text": [
      "[[ 0.          0.1         0.1        ...,  0.          0.          0.        ]\n",
      " [ 0.          0.61        0.05       ...,  0.          0.          0.        ]\n",
      " [ 0.          0.          0.4        ...,  0.          0.          0.        ]\n",
      " ..., \n",
      " [ 0.05        0.15        0.03333333 ...,  0.          0.          0.        ]\n",
      " [ 0.          0.          0.3        ...,  0.          0.          0.        ]\n",
      " [ 0.          0.2         0.         ...,  0.          0.          0.        ]]\n",
      "[ 0.17111459  0.13444335  0.12097192  0.10030523  0.06556527]\n"
     ]
    }
   ],
   "source": [
    "print pred_r\n",
    "print score_r"
   ]
  },
  {
   "cell_type": "code",
   "execution_count": 11,
   "metadata": {
    "collapsed": false
   },
   "outputs": [],
   "source": [
    "def bayes_naive_gaussien(X,Y,test):\n",
    "    from sklearn.naive_bayes import GaussianNB\n",
    "    gnb = GaussianNB()\n",
    "    gnb = gnb.fit(X,Y)\n",
    "    score = cross_val_score(gnb, X, Y, cv = 5)\n",
    "    pred_nb = gnb.predict_proba(test)\n",
    "    return score,pred_nb\n",
    "\n",
    "def svm(X,Y,test):\n",
    "    from sklearn import svm\n",
    "    svm = svm.SVC()\n",
    "    svm.fit(X, Y)\n",
    "    score = cross_val_score(svm, X, Y, cv = 5)\n",
    "    pred_svm = svm.predict_proba(test)\n",
    "    return score,pred_svm"
   ]
  },
  {
   "cell_type": "code",
   "execution_count": 4,
   "metadata": {
    "collapsed": false
   },
   "outputs": [
    {
     "name": "stdout",
     "output_type": "stream",
     "text": [
      "[ 0.10414235  0.08313735  0.0891459   0.08649006  0.07873186]\n",
      "[[  1.09150613e-02   2.73882921e-02   3.53557350e-02 ...,   2.80142461e-01\n",
      "    8.14209648e-03   3.35422644e-06]\n",
      " [  3.28967096e-02   1.53752135e-01   1.25261263e-01 ...,   0.00000000e+00\n",
      "    2.14410205e-03   1.92851973e-06]\n",
      " [  8.68579741e-03   2.54102238e-02   5.80040528e-02 ...,   1.03344375e-01\n",
      "    4.41717798e-03   8.33454289e-06]\n",
      " ..., \n",
      " [  5.67698914e-03   2.70438629e-02   3.70605393e-02 ...,   1.75547061e-08\n",
      "    2.19603526e-03   7.90806695e-06]\n",
      " [  4.43135658e-03   1.73011816e-02   1.99516189e-02 ...,   3.84687563e-07\n",
      "    2.80302125e-03   3.43720474e-05]\n",
      " [  5.57683657e-03   2.54984850e-02   2.57728904e-02 ...,   4.94041386e-11\n",
      "    1.27784205e-03   3.12735445e-05]]\n"
     ]
    }
   ],
   "source": [
    "score_nb,pred_nb = bayes_naive_gaussien(train[X_all],train[y],test[X_all])\n",
    "print score_nb\n",
    "print pred_nb\n"
   ]
  },
  {
   "cell_type": "code",
   "execution_count": null,
   "metadata": {
    "collapsed": false
   },
   "outputs": [],
   "source": [
    "score_svm,pred_svm = svm(train[X_all],train[y],test[X_all])\n",
    "print score_svm\n",
    "print pred_svm"
   ]
  },
  {
   "cell_type": "code",
   "execution_count": 5,
   "metadata": {
    "collapsed": false
   },
   "outputs": [
    {
     "name": "stdout",
     "output_type": "stream",
     "text": [
      "   Id     ARSON   ASSAULT    BAD CHECKS   BRIBERY      BURGLARY  \\\n",
      "0   0  0.013109  0.050605  1.911876e-06  0.003740  3.525824e-02   \n",
      "1   1  0.006535  0.047812  2.857791e-09  0.000859  2.843887e-19   \n",
      "2   2  0.009020  0.056024  1.590421e-05  0.001727  7.380018e-02   \n",
      "3   3  0.011636  0.076732  8.805935e-06  0.003356  1.070643e-01   \n",
      "4   4  0.011636  0.076732  8.805935e-06  0.003356  1.070643e-01   \n",
      "\n",
      "   DISORDERLY CONDUCT  DRIVING UNDER THE INFLUENCE  DRUG/NARCOTIC  \\\n",
      "0            0.000203                     0.006973       0.075879   \n",
      "1            0.000500                     0.053793       0.145836   \n",
      "2            0.000130                     0.014233       0.153403   \n",
      "3            0.000225                     0.006413       0.017823   \n",
      "4            0.000225                     0.006413       0.017823   \n",
      "\n",
      "   DRUNKENNESS     ...       SEX OFFENSES NON FORCIBLE  STOLEN PROPERTY  \\\n",
      "0     0.019005     ...                        0.000061         0.001521   \n",
      "1     0.036277     ...                        0.000022         0.002862   \n",
      "2     0.045605     ...                        0.000064         0.001631   \n",
      "3     0.007902     ...                        0.000204         0.002121   \n",
      "4     0.007902     ...                        0.000204         0.002121   \n",
      "\n",
      "        SUICIDE  SUSPICIOUS OCC      TREA  TRESPASS  VANDALISM  VEHICLE THEFT  \\\n",
      "0  2.975057e-03        0.012407  0.280142  0.003621   0.022110       0.001433   \n",
      "1  1.818719e-08        0.009339  0.000000  0.000001   0.030825       0.008218   \n",
      "2  4.230384e-03        0.014391  0.103344  0.002737   0.036627       0.003229   \n",
      "3  3.060131e-03        0.021757  0.027265  0.004193   0.056088       0.005954   \n",
      "4  3.060131e-03        0.021757  0.027265  0.004193   0.056088       0.005954   \n",
      "\n",
      "   WARRANTS  WEAPON LAWS  \n",
      "0  0.010915     0.094804  \n",
      "1  0.032897     0.169222  \n",
      "2  0.008686     0.065256  \n",
      "3  0.012115     0.068113  \n",
      "4  0.012115     0.068113  \n",
      "\n",
      "[5 rows x 40 columns]\n"
     ]
    }
   ],
   "source": [
    "# Create submission\n",
    "submission_nb = pd.DataFrame({cat_rev[p] : [pred_nb[i][p] for i in range(len(pred_nb))] for p in range(len(pred_nb[0]))})\n",
    "\n",
    "submission_nb['Id'] = [i for i in range(len(submission_nb))]\n",
    "\n",
    "submission_nb = submission_nb[['Id'] + sorted(train['Category'].unique())]\n",
    "print(submission_nb.head())\n",
    "\n",
    "# Write submission\n",
    "submission_nb.to_csv('submission_nb.csv.gz', index=False, compression='gzip')"
   ]
  },
  {
   "cell_type": "code",
   "execution_count": null,
   "metadata": {
    "collapsed": true
   },
   "outputs": [],
   "source": [
    "# Create submission\n",
    "submission_svm = pd.DataFrame({cat_rev[p] : [pred_svm[i][p] for i in range(len(pred_svm))] for p in range(len(pred_svm[0]))})\n",
    "\n",
    "submission_svm['Id'] = [i for i in range(len(submission_nb))]\n",
    "\n",
    "submission_svm = submission_svm[['Id'] + sorted(train['Category'].unique())]\n",
    "print(submission_svm.head())\n",
    "\n",
    "# Write submission\n",
    "submission_svm.to_csv('submission_svm.csv.gz', index=False, compression='gzip')"
   ]
  },
  {
   "cell_type": "code",
   "execution_count": 3,
   "metadata": {
    "collapsed": false
   },
   "outputs": [
    {
     "name": "stdout",
     "output_type": "stream",
     "text": [
      "878049\n",
      "OK : 23106 / 878049 -> 0.0263151600879\n"
     ]
    }
   ],
   "source": [
    "random_pre = [np.random.randint(0, 38)for __ in range(len(train))]\n",
    "\n",
    "print len(random_pre)\n",
    "tot = 0\n",
    "correct = 0\n",
    "for k in xrange(len(train)):\n",
    "    if random_pre[k] == train[y][k]:\n",
    "        correct+=1\n",
    "    tot+=1\n",
    "print \"OK : \"+str(correct)+\" / \"+str(tot)+ \" -> \"+ str(correct/tot)   "
   ]
  },
  {
   "cell_type": "code",
   "execution_count": 3,
   "metadata": {
    "collapsed": false
   },
   "outputs": [],
   "source": [
    "random_pre = np.zeros([len(test),39])\n",
    "for i in xrange(len(test)):\n",
    "    for j in xrange(0,38):\n",
    "        random_pre[i][j] = np.random.random()\n",
    "for k in xrange(len(test)):\n",
    "    random_pre[k]= random_pre[k]/sum(random_pre[k])"
   ]
  },
  {
   "cell_type": "code",
   "execution_count": 4,
   "metadata": {
    "collapsed": false
   },
   "outputs": [
    {
     "name": "stdout",
     "output_type": "stream",
     "text": [
      "(884262, 15)\n",
      "(884262, 39)\n"
     ]
    }
   ],
   "source": [
    "print test.shape\n",
    "print random_pre.shape"
   ]
  },
  {
   "cell_type": "code",
   "execution_count": 5,
   "metadata": {
    "collapsed": false
   },
   "outputs": [
    {
     "name": "stdout",
     "output_type": "stream",
     "text": [
      "   Id     ARSON   ASSAULT  BAD CHECKS   BRIBERY  BURGLARY  DISORDERLY CONDUCT  \\\n",
      "0   0  0.014551  0.021662    0.006229  0.033790  0.044332            0.035805   \n",
      "1   1  0.033426  0.037216    0.038787  0.012907  0.046216            0.050442   \n",
      "2   2  0.042736  0.043795    0.020108  0.036097  0.033364            0.013380   \n",
      "3   3  0.025049  0.053034    0.016354  0.049401  0.053860            0.019421   \n",
      "4   4  0.043367  0.011791    0.014072  0.036352  0.024347            0.034878   \n",
      "\n",
      "   DRIVING UNDER THE INFLUENCE  DRUG/NARCOTIC  DRUNKENNESS     ...       \\\n",
      "0                     0.039160       0.044120     0.012730     ...        \n",
      "1                     0.052692       0.041891     0.004321     ...        \n",
      "2                     0.042091       0.037877     0.001251     ...        \n",
      "3                     0.019014       0.050570     0.056801     ...        \n",
      "4                     0.057149       0.002597     0.050819     ...        \n",
      "\n",
      "   SEX OFFENSES NON FORCIBLE  STOLEN PROPERTY   SUICIDE  SUSPICIOUS OCC  \\\n",
      "0                   0.043430         0.041782  0.053320        0.016276   \n",
      "1                   0.046982         0.056116  0.040037        0.028016   \n",
      "2                   0.019957         0.011128  0.024882        0.052177   \n",
      "3                   0.014613         0.029923  0.000160        0.024095   \n",
      "4                   0.015906         0.043810  0.021614        0.009871   \n",
      "\n",
      "       TREA  TRESPASS  VANDALISM  VEHICLE THEFT  WARRANTS  WEAPON LAWS  \n",
      "0  0.028275  0.003646   0.020487       0.001367  0.024497     0.051061  \n",
      "1  0.001850  0.000129   0.018381       0.003763  0.052711     0.001226  \n",
      "2  0.027744  0.023182   0.024819       0.008015  0.001020     0.048178  \n",
      "3  0.031020  0.008908   0.008526       0.054730  0.043068     0.018340  \n",
      "4  0.005259  0.023452   0.057348       0.009929  0.058095     0.007070  \n",
      "\n",
      "[5 rows x 40 columns]\n"
     ]
    }
   ],
   "source": [
    "# Create submission\n",
    "submission_rp = pd.DataFrame({cat_rev[p] : [random_pre[i][p] for i in range(len(random_pre))] for p in range(len(random_pre[0]))})\n",
    "\n",
    "submission_rp['Id'] = [i for i in range(len(submission_rp))]\n",
    "\n",
    "submission_rp = submission_rp[['Id'] + sorted(train['Category'].unique())]\n",
    "print(submission_rp.head())\n",
    "\n",
    "# Write submission\n",
    "submission_rp.to_csv('submission_rp.csv.gz', index=False, compression='gzip')"
   ]
  },
  {
   "cell_type": "code",
   "execution_count": null,
   "metadata": {
    "collapsed": true
   },
   "outputs": [],
   "source": [
    "# Create submission\n",
    "submission = pd.DataFrame({cat_rev[p] : [pred[i][p] for i in range(len(pred))] for p in range(len(pred[0]))})\n",
    "\n",
    "submission['Id'] = [i for i in range(len(submission))]\n",
    "\n",
    "submission = submission[['Id'] + sorted(train['Category'].unique())]\n",
    "print(submission.head())\n",
    "\n",
    "# Write submission\n",
    "submission.to_csv('submission.csv.gz', index=False, compression='gzip')"
   ]
  },
  {
   "cell_type": "code",
   "execution_count": 10,
   "metadata": {
    "collapsed": false
   },
   "outputs": [
    {
     "name": "stdout",
     "output_type": "stream",
     "text": [
      "   Id  ARSON   ASSAULT  BAD CHECKS  BRIBERY  BURGLARY  DISORDERLY CONDUCT  \\\n",
      "0   0    0.0  0.166667         0.0      0.0       0.1                 0.0   \n",
      "1   1    0.0  0.150000         0.0      0.0       0.0                 0.0   \n",
      "2   2    0.0  0.200000         0.0      0.0       0.2                 0.0   \n",
      "3   3    0.0  0.150000         0.0      0.0       0.0                 0.0   \n",
      "4   4    0.0  0.150000         0.0      0.0       0.0                 0.0   \n",
      "\n",
      "   DRIVING UNDER THE INFLUENCE  DRUG/NARCOTIC  DRUNKENNESS     ...       \\\n",
      "0                          0.0           0.00          0.0     ...        \n",
      "1                          0.0           0.04          0.0     ...        \n",
      "2                          0.0           0.00          0.0     ...        \n",
      "3                          0.0           0.05          0.0     ...        \n",
      "4                          0.0           0.05          0.0     ...        \n",
      "\n",
      "   SEX OFFENSES NON FORCIBLE  STOLEN PROPERTY  SUICIDE  SUSPICIOUS OCC  TREA  \\\n",
      "0                        0.0             0.00      0.0        0.100000   0.0   \n",
      "1                        0.0             0.05      0.0        0.033333   0.0   \n",
      "2                        0.0             0.00      0.0        0.000000   0.0   \n",
      "3                        0.0             0.00      0.0        0.033333   0.0   \n",
      "4                        0.0             0.00      0.0        0.033333   0.0   \n",
      "\n",
      "   TRESPASS  VANDALISM  VEHICLE THEFT  WARRANTS  WEAPON LAWS  \n",
      "0       0.1        0.1       0.200000      0.00         0.00  \n",
      "1       0.0        0.0       0.000000      0.00         0.00  \n",
      "2       0.0        0.1       0.000000      0.00         0.00  \n",
      "3       0.0        0.0       0.033333      0.05         0.05  \n",
      "4       0.0        0.0       0.033333      0.05         0.05  \n",
      "\n",
      "[5 rows x 40 columns]\n"
     ]
    }
   ],
   "source": [
    "# Create submission\n",
    "submission_r = pd.DataFrame({cat_rev[p] : [pred_r[i][p] for i in range(len(pred_r))] for p in range(len(pred_r[0]))})\n",
    "\n",
    "submission_r['Id'] = [i for i in range(len(submission_r))]\n",
    "\n",
    "submission_r = submission_r[['Id'] + sorted(train['Category'].unique())]\n",
    "print(submission_r.head())\n",
    "\n",
    "# Write submission\n",
    "submission_r.to_csv('submission_r.csv.gz', index=False, compression='gzip')"
   ]
  },
  {
   "cell_type": "code",
   "execution_count": null,
   "metadata": {
    "collapsed": true
   },
   "outputs": [],
   "source": []
  }
 ],
 "metadata": {
  "kernelspec": {
   "display_name": "Python 2",
   "language": "python",
   "name": "python2"
  },
  "language_info": {
   "codemirror_mode": {
    "name": "ipython",
    "version": 2
   },
   "file_extension": ".py",
   "mimetype": "text/x-python",
   "name": "python",
   "nbconvert_exporter": "python",
   "pygments_lexer": "ipython2",
   "version": "2.7.12"
  }
 },
 "nbformat": 4,
 "nbformat_minor": 0
}

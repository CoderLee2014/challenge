{
 "cells": [
  {
   "cell_type": "markdown",
   "metadata": {},
   "source": [
    "#<a href=\"http://www.datascience-paris-saclay.fr\">Paris Saclay Center for Data Science (CDS)</a>\n",
    "#Test <a href=http://www.ramp.studio/events/iris_test>RAMP on iris</a> \n",
    "\n",
    "<i> Adapted for Chalab by Isabelle Guyon from original code of Balázs Kégl (LAL/CNRS)</i>\n",
    "\n",
    "ALL INFORMATION, SOFTWARE, DOCUMENTATION, AND DATA ARE PROVIDED \"AS-IS\". The CDS, CHALEARN, AND/OR OTHER ORGANIZERS OR CODE AUTHORS DISCLAIM ANY EXPRESSED OR IMPLIED WARRANTIES, INCLUDING, BUT NOT LIMITED TO, THE IMPLIED WARRANTIES OF MERCHANTABILITY AND FITNESS FOR ANY PARTICULAR PURPOSE, AND THE WARRANTY OF NON-INFRIGEMENT OF ANY THIRD PARTY'S INTELLECTUAL PROPERTY RIGHTS. IN NO EVENT SHALL AUTHORS AND ORGANIZERS BE LIABLE FOR ANY SPECIAL, \n",
    "INDIRECT OR CONSEQUENTIAL DAMAGES OR ANY DAMAGES WHATSOEVER ARISING OUT OF OR IN CONNECTION WITH THE USE OR PERFORMANCE OF SOFTWARE, DOCUMENTS, MATERIALS, PUBLICATIONS, OR INFORMATION MADE AVAILABLE FOR THE CHALLENGE. "
   ]
  },
  {
   "cell_type": "markdown",
   "metadata": {},
   "source": [
    "## Introduction\n",
    "\n",
    "Iris is a small standard multi-class classification data set from the <a href=\"http://archive.ics.uci.edu/ml/datasets/Iris\">UCI Machine Learning Repository</a>, formatted in the AutoML format."
   ]
  },
  {
   "cell_type": "code",
   "execution_count": 2,
   "metadata": {
    "collapsed": false
   },
   "outputs": [],
   "source": [
    "codedir = 'sample_code/'                        # Change this to the directory where you put the code\n",
    "from sys import path; path.append(codedir)\n",
    "%matplotlib inline\n",
    "import seaborn as sns; sns.set()"
   ]
  },
  {
   "cell_type": "markdown",
   "metadata": {},
   "source": [
    "## Fetch the data and load it"
   ]
  },
  {
   "cell_type": "code",
   "execution_count": 3,
   "metadata": {
    "collapsed": false
   },
   "outputs": [
    {
     "name": "stdout",
     "output_type": "stream",
     "text": [
      "public_data/crime.solution\n",
      "public_data/crime_feat.name\n",
      "public_data/crime_label.name\n",
      "public_data/crime_test.data\n",
      "public_data/crime_test.solution\n",
      "public_data/crime_train.data\n",
      "public_data/crime_train.solution\n",
      "public_data/crime_valid.data\n",
      "public_data/crime_valid.solution\n"
     ]
    }
   ],
   "source": [
    "datadir = 'public_data/'                        # Change this to the directory where you put the input data\n",
    "dataname = 'crime'\n",
    "basename = datadir  + dataname\n",
    "!ls $basename*"
   ]
  },
  {
   "cell_type": "code",
   "execution_count": 4,
   "metadata": {
    "collapsed": false
   },
   "outputs": [
    {
     "name": "stdout",
     "output_type": "stream",
     "text": [
      "Reading public_data/crime_train from AutoML format\n",
      "Number of examples = 746341\n",
      "Number of features = 11\n",
      "Number of classes = 39\n"
     ]
    }
   ],
   "source": [
    "import data_io\n",
    "reload(data_io)\n",
    "data = data_io.read_as_df(basename)                          # The data are loaded as a Pandas Data Frame\n",
    "#data.to_csv(basename + '_train.csv', index=False)           # This allows saving the data in csv format"
   ]
  },
  {
   "cell_type": "code",
   "execution_count": 4,
   "metadata": {
    "collapsed": false
   },
   "outputs": [
    {
     "data": {
      "text/html": [
       "<div>\n",
       "<table border=\"1\" class=\"dataframe\">\n",
       "  <thead>\n",
       "    <tr style=\"text-align: right;\">\n",
       "      <th></th>\n",
       "      <th>Year</th>\n",
       "      <th>Month</th>\n",
       "      <th>Day</th>\n",
       "      <th>DayOfWeek</th>\n",
       "      <th>Minute</th>\n",
       "      <th>Hour</th>\n",
       "      <th>X</th>\n",
       "      <th>Y</th>\n",
       "      <th>PdDistrict</th>\n",
       "      <th>Address</th>\n",
       "      <th>Resolution</th>\n",
       "      <th>target</th>\n",
       "    </tr>\n",
       "  </thead>\n",
       "  <tbody>\n",
       "    <tr>\n",
       "      <th>0</th>\n",
       "      <td>12.0</td>\n",
       "      <td>5.0</td>\n",
       "      <td>13.0</td>\n",
       "      <td>2.0</td>\n",
       "      <td>53.0</td>\n",
       "      <td>23.0</td>\n",
       "      <td>-0.107902</td>\n",
       "      <td>0.007832</td>\n",
       "      <td>0.0</td>\n",
       "      <td>1.0</td>\n",
       "      <td>0.0</td>\n",
       "      <td>WARRANTS</td>\n",
       "    </tr>\n",
       "    <tr>\n",
       "      <th>1</th>\n",
       "      <td>12.0</td>\n",
       "      <td>5.0</td>\n",
       "      <td>13.0</td>\n",
       "      <td>2.0</td>\n",
       "      <td>53.0</td>\n",
       "      <td>23.0</td>\n",
       "      <td>-0.107902</td>\n",
       "      <td>0.007832</td>\n",
       "      <td>0.0</td>\n",
       "      <td>1.0</td>\n",
       "      <td>0.0</td>\n",
       "      <td>OTHER OFFENSES</td>\n",
       "    </tr>\n",
       "    <tr>\n",
       "      <th>2</th>\n",
       "      <td>12.0</td>\n",
       "      <td>5.0</td>\n",
       "      <td>13.0</td>\n",
       "      <td>2.0</td>\n",
       "      <td>33.0</td>\n",
       "      <td>23.0</td>\n",
       "      <td>-0.057541</td>\n",
       "      <td>0.064335</td>\n",
       "      <td>0.0</td>\n",
       "      <td>1.0</td>\n",
       "      <td>0.0</td>\n",
       "      <td>OTHER OFFENSES</td>\n",
       "    </tr>\n",
       "    <tr>\n",
       "      <th>3</th>\n",
       "      <td>12.0</td>\n",
       "      <td>5.0</td>\n",
       "      <td>13.0</td>\n",
       "      <td>2.0</td>\n",
       "      <td>30.0</td>\n",
       "      <td>23.0</td>\n",
       "      <td>-0.144262</td>\n",
       "      <td>0.065338</td>\n",
       "      <td>0.0</td>\n",
       "      <td>0.0</td>\n",
       "      <td>1.0</td>\n",
       "      <td>LARCENY/THEFT</td>\n",
       "    </tr>\n",
       "    <tr>\n",
       "      <th>4</th>\n",
       "      <td>12.0</td>\n",
       "      <td>5.0</td>\n",
       "      <td>13.0</td>\n",
       "      <td>2.0</td>\n",
       "      <td>30.0</td>\n",
       "      <td>23.0</td>\n",
       "      <td>0.637950</td>\n",
       "      <td>-0.126046</td>\n",
       "      <td>2.0</td>\n",
       "      <td>0.0</td>\n",
       "      <td>1.0</td>\n",
       "      <td>LARCENY/THEFT</td>\n",
       "    </tr>\n",
       "  </tbody>\n",
       "</table>\n",
       "</div>"
      ],
      "text/plain": [
       "   Year  Month   Day  DayOfWeek  Minute  Hour         X         Y  PdDistrict  \\\n",
       "0  12.0    5.0  13.0        2.0    53.0  23.0 -0.107902  0.007832         0.0   \n",
       "1  12.0    5.0  13.0        2.0    53.0  23.0 -0.107902  0.007832         0.0   \n",
       "2  12.0    5.0  13.0        2.0    33.0  23.0 -0.057541  0.064335         0.0   \n",
       "3  12.0    5.0  13.0        2.0    30.0  23.0 -0.144262  0.065338         0.0   \n",
       "4  12.0    5.0  13.0        2.0    30.0  23.0  0.637950 -0.126046         2.0   \n",
       "\n",
       "   Address  Resolution          target  \n",
       "0      1.0         0.0        WARRANTS  \n",
       "1      1.0         0.0  OTHER OFFENSES  \n",
       "2      1.0         0.0  OTHER OFFENSES  \n",
       "3      0.0         1.0   LARCENY/THEFT  \n",
       "4      0.0         1.0   LARCENY/THEFT  "
      ]
     },
     "execution_count": 4,
     "metadata": {},
     "output_type": "execute_result"
    }
   ],
   "source": [
    "data.head()"
   ]
  },
  {
   "cell_type": "code",
   "execution_count": 5,
   "metadata": {
    "collapsed": false,
    "scrolled": true
   },
   "outputs": [
    {
     "data": {
      "text/html": [
       "<div>\n",
       "<table border=\"1\" class=\"dataframe\">\n",
       "  <thead>\n",
       "    <tr style=\"text-align: right;\">\n",
       "      <th></th>\n",
       "      <th>Year</th>\n",
       "      <th>Month</th>\n",
       "      <th>Day</th>\n",
       "      <th>DayOfWeek</th>\n",
       "      <th>Minute</th>\n",
       "      <th>Hour</th>\n",
       "      <th>X</th>\n",
       "      <th>Y</th>\n",
       "      <th>PdDistrict</th>\n",
       "      <th>Address</th>\n",
       "      <th>Resolution</th>\n",
       "    </tr>\n",
       "  </thead>\n",
       "  <tbody>\n",
       "    <tr>\n",
       "      <th>count</th>\n",
       "      <td>746341.000000</td>\n",
       "      <td>746341.000000</td>\n",
       "      <td>746341.000000</td>\n",
       "      <td>746341.000000</td>\n",
       "      <td>746341.000000</td>\n",
       "      <td>746341.000000</td>\n",
       "      <td>746341.000000</td>\n",
       "      <td>746341.000000</td>\n",
       "      <td>746341.000000</td>\n",
       "      <td>746341.000000</td>\n",
       "      <td>746341.000000</td>\n",
       "    </tr>\n",
       "    <tr>\n",
       "      <th>mean</th>\n",
       "      <td>5.714467</td>\n",
       "      <td>6.433850</td>\n",
       "      <td>15.567438</td>\n",
       "      <td>2.993792</td>\n",
       "      <td>20.159893</td>\n",
       "      <td>13.414112</td>\n",
       "      <td>0.000077</td>\n",
       "      <td>0.000042</td>\n",
       "      <td>5.038895</td>\n",
       "      <td>0.297181</td>\n",
       "      <td>1.322004</td>\n",
       "    </tr>\n",
       "    <tr>\n",
       "      <th>std</th>\n",
       "      <td>3.631529</td>\n",
       "      <td>3.428579</td>\n",
       "      <td>8.782441</td>\n",
       "      <td>1.972018</td>\n",
       "      <td>18.590669</td>\n",
       "      <td>6.546746</td>\n",
       "      <td>0.999995</td>\n",
       "      <td>1.000439</td>\n",
       "      <td>3.114957</td>\n",
       "      <td>0.457017</td>\n",
       "      <td>2.028529</td>\n",
       "    </tr>\n",
       "    <tr>\n",
       "      <th>min</th>\n",
       "      <td>0.000000</td>\n",
       "      <td>1.000000</td>\n",
       "      <td>1.000000</td>\n",
       "      <td>0.000000</td>\n",
       "      <td>0.000000</td>\n",
       "      <td>0.000000</td>\n",
       "      <td>-2.998840</td>\n",
       "      <td>-0.138108</td>\n",
       "      <td>0.000000</td>\n",
       "      <td>0.000000</td>\n",
       "      <td>0.000000</td>\n",
       "    </tr>\n",
       "    <tr>\n",
       "      <th>25%</th>\n",
       "      <td>3.000000</td>\n",
       "      <td>3.000000</td>\n",
       "      <td>8.000000</td>\n",
       "      <td>1.000000</td>\n",
       "      <td>0.000000</td>\n",
       "      <td>9.000000</td>\n",
       "      <td>-0.340491</td>\n",
       "      <td>-0.040665</td>\n",
       "      <td>2.000000</td>\n",
       "      <td>0.000000</td>\n",
       "      <td>1.000000</td>\n",
       "    </tr>\n",
       "    <tr>\n",
       "      <th>50%</th>\n",
       "      <td>6.000000</td>\n",
       "      <td>6.000000</td>\n",
       "      <td>16.000000</td>\n",
       "      <td>3.000000</td>\n",
       "      <td>19.000000</td>\n",
       "      <td>14.000000</td>\n",
       "      <td>0.204155</td>\n",
       "      <td>0.009631</td>\n",
       "      <td>5.000000</td>\n",
       "      <td>0.000000</td>\n",
       "      <td>1.000000</td>\n",
       "    </tr>\n",
       "    <tr>\n",
       "      <th>75%</th>\n",
       "      <td>9.000000</td>\n",
       "      <td>9.000000</td>\n",
       "      <td>23.000000</td>\n",
       "      <td>5.000000</td>\n",
       "      <td>33.000000</td>\n",
       "      <td>19.000000</td>\n",
       "      <td>0.515846</td>\n",
       "      <td>0.029240</td>\n",
       "      <td>8.000000</td>\n",
       "      <td>1.000000</td>\n",
       "      <td>1.000000</td>\n",
       "    </tr>\n",
       "    <tr>\n",
       "      <th>max</th>\n",
       "      <td>12.000000</td>\n",
       "      <td>12.000000</td>\n",
       "      <td>31.000000</td>\n",
       "      <td>6.000000</td>\n",
       "      <td>59.000000</td>\n",
       "      <td>23.000000</td>\n",
       "      <td>63.340628</td>\n",
       "      <td>114.313411</td>\n",
       "      <td>9.000000</td>\n",
       "      <td>1.000000</td>\n",
       "      <td>16.000000</td>\n",
       "    </tr>\n",
       "  </tbody>\n",
       "</table>\n",
       "</div>"
      ],
      "text/plain": [
       "                Year          Month            Day      DayOfWeek  \\\n",
       "count  746341.000000  746341.000000  746341.000000  746341.000000   \n",
       "mean        5.714467       6.433850      15.567438       2.993792   \n",
       "std         3.631529       3.428579       8.782441       1.972018   \n",
       "min         0.000000       1.000000       1.000000       0.000000   \n",
       "25%         3.000000       3.000000       8.000000       1.000000   \n",
       "50%         6.000000       6.000000      16.000000       3.000000   \n",
       "75%         9.000000       9.000000      23.000000       5.000000   \n",
       "max        12.000000      12.000000      31.000000       6.000000   \n",
       "\n",
       "              Minute           Hour              X              Y  \\\n",
       "count  746341.000000  746341.000000  746341.000000  746341.000000   \n",
       "mean       20.159893      13.414112       0.000077       0.000042   \n",
       "std        18.590669       6.546746       0.999995       1.000439   \n",
       "min         0.000000       0.000000      -2.998840      -0.138108   \n",
       "25%         0.000000       9.000000      -0.340491      -0.040665   \n",
       "50%        19.000000      14.000000       0.204155       0.009631   \n",
       "75%        33.000000      19.000000       0.515846       0.029240   \n",
       "max        59.000000      23.000000      63.340628     114.313411   \n",
       "\n",
       "          PdDistrict        Address     Resolution  \n",
       "count  746341.000000  746341.000000  746341.000000  \n",
       "mean        5.038895       0.297181       1.322004  \n",
       "std         3.114957       0.457017       2.028529  \n",
       "min         0.000000       0.000000       0.000000  \n",
       "25%         2.000000       0.000000       1.000000  \n",
       "50%         5.000000       0.000000       1.000000  \n",
       "75%         8.000000       1.000000       1.000000  \n",
       "max         9.000000       1.000000      16.000000  "
      ]
     },
     "execution_count": 5,
     "metadata": {},
     "output_type": "execute_result"
    }
   ],
   "source": [
    "data.describe() "
   ]
  },
  {
   "cell_type": "code",
   "execution_count": 15,
   "metadata": {
    "collapsed": false
   },
   "outputs": [],
   "source": [
    "#data.hist(figsize=(10, 10), bins=50, layout=(3, 2));"
   ]
  },
  {
   "cell_type": "code",
   "execution_count": null,
   "metadata": {
    "collapsed": false
   },
   "outputs": [],
   "source": [
    "sns.pairplot(data, hue=\"target\")"
   ]
  },
  {
   "cell_type": "markdown",
   "metadata": {},
   "source": [
    "## Building a predictive model"
   ]
  },
  {
   "cell_type": "markdown",
   "metadata": {},
   "source": [
    "Data matrices for training and making predictions."
   ]
  },
  {
   "cell_type": "code",
   "execution_count": 28,
   "metadata": {
    "collapsed": false
   },
   "outputs": [
    {
     "name": "stdout",
     "output_type": "stream",
     "text": [
      "Dimensions X_train= (746341L, 11L) y_train= (746341L,)\n",
      "Reading public_data/crime_valid from AutoML format\n",
      "Number of examples = 43902\n",
      "Number of features = 11\n",
      "Reading public_data/crime_test from AutoML format\n",
      "Number of examples = 87806\n",
      "Number of features = 11\n"
     ]
    }
   ],
   "source": [
    "X_train = data.drop('target', axis=1).values            # This is the data matrix you already loaded (training data)\n",
    "y_train = data['target'].values                         # These are the target values encoded as categorical variables\n",
    "print 'Dimensions X_train=', X_train.shape, 'y_train=', y_train.shape\n",
    "X_valid = data_io.read_as_df(basename, 'valid').values\n",
    "X_test = data_io.read_as_df(basename, 'test').values"
   ]
  },
  {
   "cell_type": "code",
   "execution_count": 30,
   "metadata": {
    "collapsed": false
   },
   "outputs": [
    {
     "name": "stdout",
     "output_type": "stream",
     "text": [
      "[[ 12.   5.  13. ...,   2.   0.   1.]\n",
      " [ 12.   5.  13. ...,   6.   1.   1.]\n",
      " [ 12.   5.  13. ...,   9.   0.   1.]\n",
      " ..., \n",
      " [  0.   1.   6. ...,   7.   1.   0.]\n",
      " [  0.   1.   6. ...,   7.   1.   2.]\n",
      " [  0.   1.   6. ...,   2.   0.   1.]]\n"
     ]
    }
   ],
   "source": [
    "print X_valid"
   ]
  },
  {
   "cell_type": "markdown",
   "metadata": {},
   "source": [
    "The initial classifier in your starting kit (in the sample_code directory)."
   ]
  },
  {
   "cell_type": "code",
   "execution_count": 31,
   "metadata": {
    "collapsed": false
   },
   "outputs": [],
   "source": [
    "import classifier\n",
    "reload(classifier)                               # If you make changes to your code you have to reload it\n",
    "from classifier import Classifier\n",
    "Classifier??"
   ]
  },
  {
   "cell_type": "markdown",
   "metadata": {},
   "source": [
    "Train, run, and save your classifier and your predictions. If you saved a trained model and/or prediction results, the evaluation script will look for those and use those in priority [(1) use saved predictions; (2) if no predictions, use saved model, do not retrain, just test; (3) if neither, train and test model from scratch]. Compute the predictions with predict_proba, this is more versatile."
   ]
  },
  {
   "cell_type": "code",
   "execution_count": 32,
   "metadata": {
    "collapsed": false
   },
   "outputs": [
    {
     "name": "stdout",
     "output_type": "stream",
     "text": [
      "[[ 12.   5.  13. ...,   2.   0.   1.]\n",
      " [ 12.   5.  13. ...,   6.   1.   1.]\n",
      " [ 12.   5.  13. ...,   9.   0.   1.]\n",
      " ..., \n",
      " [  0.   1.   6. ...,   7.   1.   0.]\n",
      " [  0.   1.   6. ...,   7.   1.   2.]\n",
      " [  0.   1.   6. ...,   2.   0.   1.]]\n"
     ]
    }
   ],
   "source": [
    "print X_valid\n"
   ]
  },
  {
   "cell_type": "code",
   "execution_count": 33,
   "metadata": {
    "collapsed": false
   },
   "outputs": [],
   "source": [
    "result_dir = 'res/'\n",
    "outname = result_dir + dataname\n",
    "clf = Classifier()\n",
    "clf.fit(X_train, y_train)"
   ]
  },
  {
   "cell_type": "code",
   "execution_count": 34,
   "metadata": {
    "collapsed": false,
    "scrolled": true
   },
   "outputs": [
    {
     "name": "stdout",
     "output_type": "stream",
     "text": [
      "res/crime_model.pickle\n",
      "res/crime_test.predict\n",
      "res/crime_valid.predict\n"
     ]
    }
   ],
   "source": [
    "Y_valid = clf.predict_proba(X_valid) \n",
    "Y_test = clf.predict_proba(X_test) \n",
    "clf.save(outname)\n",
    "#clf.load(outname) # Uncomment to check reloading works\n",
    "data_io.write(outname + '_valid.predict', Y_valid)\n",
    "data_io.write(outname + '_test.predict', Y_test)\n",
    "!ls $outname*"
   ]
  },
  {
   "cell_type": "markdown",
   "metadata": {},
   "source": [
    "Compute the training accuracy."
   ]
  },
  {
   "cell_type": "code",
   "execution_count": 35,
   "metadata": {
    "collapsed": false
   },
   "outputs": [
    {
     "name": "stdout",
     "output_type": "stream",
     "text": [
      "Training accuracy =  0.864051418855\n",
      "Class labels= ['ARSON' 'ASSAULT' 'BAD CHECKS' 'BRIBERY' 'BURGLARY' 'DISORDERLY CONDUCT'\n",
      " 'DRIVING UNDER THE INFLUENCE' 'DRUG/NARCOTIC' 'DRUNKENNESS' 'EMBEZZLEMENT'\n",
      " 'EXTORTION' 'FAMILY OFFENSES' 'FORGERY/COUNTERFEITING' 'FRAUD' 'GAMBLING'\n",
      " 'KIDNAPPING' 'LARCENY/THEFT' 'LIQUOR LAWS' 'LOITERING' 'MISSING PERSON'\n",
      " 'NON-CRIMINAL' 'OTHER OFFENSES' 'PORNOGRAPHY/OBSCENE MAT' 'PROSTITUTION'\n",
      " 'RECOVERED VEHICLE' 'ROBBERY' 'RUNAWAY' 'SECONDARY CODES'\n",
      " 'SEX OFFENSES FORCIBLE' 'SEX OFFENSES NON FORCIBLE' 'STOLEN PROPERTY'\n",
      " 'SUICIDE' 'SUSPICIOUS OCC' 'TREA' 'TRESPASS' 'VANDALISM' 'VEHICLE THEFT'\n",
      " 'WARRANTS' 'WEAPON LAWS']\n",
      "Confusion matrix [known in lines, predicted in columns]=\n",
      "[[ 1140    11     0 ...,    15    20     8]\n",
      " [   14 56070     1 ...,    45   614   341]\n",
      " [    0     2   286 ...,     1     1     0]\n",
      " ..., \n",
      " [   12    59     0 ..., 43920    50     7]\n",
      " [    9   842     1 ...,    56 25141   239]\n",
      " [    8   442     0 ...,    10   221  4983]]\n"
     ]
    }
   ],
   "source": [
    "from sklearn.metrics import accuracy_score\n",
    "from sklearn.metrics import confusion_matrix\n",
    "# Directly predicts the (categorical) class labels\n",
    "y_predict = clf.predict(X_train)                   \n",
    "print 'Training accuracy = ', accuracy_score(y_train, y_predict)\n",
    "class_labels = clf.get_classes()     \n",
    "print 'Class labels=', class_labels\n",
    "print 'Confusion matrix [known in lines, predicted in columns]=\\n',confusion_matrix(y_train, y_predict, class_labels)"
   ]
  },
  {
   "cell_type": "markdown",
   "metadata": {},
   "source": [
    "Compute cross-validation accuracy. This is usually worse than the training accuracy. Notice that we internally split the training data into training and validation set (this is because we do NOT have the labels of X_valid and X_test)."
   ]
  },
  {
   "cell_type": "code",
   "execution_count": 36,
   "metadata": {
    "collapsed": false
   },
   "outputs": [
    {
     "name": "stderr",
     "output_type": "stream",
     "text": [
      "C:\\Anaconda2\\lib\\site-packages\\sklearn\\cross_validation.py:44: DeprecationWarning: This module was deprecated in version 0.18 in favor of the model_selection module into which all the refactored classes and functions are moved. Also note that the interface of the new CV iterators are different from that of this module. This module will be removed in 0.20.\n",
      "  \"This module will be removed in 0.20.\", DeprecationWarning)\n"
     ]
    },
    {
     "name": "stdout",
     "output_type": "stream",
     "text": [
      "Fold 1 validation accuracy =  0.33741635872\n",
      "Fold 2 validation accuracy =  0.338691913359\n"
     ]
    }
   ],
   "source": [
    "from sklearn.cross_validation import StratifiedShuffleSplit\n",
    "# This is just an example of 2-fold cross-validation\n",
    "skf = StratifiedShuffleSplit(y_train, n_iter=2, test_size=0.5, random_state=61)\n",
    "i=0\n",
    "for idx_t, idx_v in skf:\n",
    "    i=i+1\n",
    "    Xtr = X_train[idx_t]\n",
    "    Ytr = y_train[idx_t]\n",
    "    Xva = X_train[idx_v]\n",
    "    Yva = y_train[idx_v]\n",
    "    clf = Classifier()\n",
    "    clf.fit(Xtr, Ytr)\n",
    "    Y_predict = clf.predict(Xva)\n",
    "    print 'Fold', i, 'validation accuracy = ', accuracy_score(Y_predict, Yva)"
   ]
  },
  {
   "cell_type": "markdown",
   "metadata": {},
   "source": [
    "ADVANCED: Sklearn does not have multi-class metrics, this shows how libscore metrics work."
   ]
  },
  {
   "cell_type": "code",
   "execution_count": null,
   "metadata": {
    "collapsed": false
   },
   "outputs": [
    {
     "name": "stdout",
     "output_type": "stream",
     "text": [
      "Dimensions Y_train= (746341L, 39L) Class labels= ['ARSON' 'ASSAULT' 'BAD CHECKS' 'BRIBERY' 'BURGLARY' 'DISORDERLY CONDUCT'\n",
      " 'DRIVING UNDER THE INFLUENCE' 'DRUG/NARCOTIC' 'DRUNKENNESS' 'EMBEZZLEMENT'\n",
      " 'EXTORTION' 'FAMILY OFFENSES' 'FORGERY/COUNTERFEITING' 'FRAUD' 'GAMBLING'\n",
      " 'KIDNAPPING' 'LARCENY/THEFT' 'LIQUOR LAWS' 'LOITERING' 'MISSING PERSON'\n",
      " 'NON-CRIMINAL' 'OTHER OFFENSES' 'PORNOGRAPHY/OBSCENE MAT' 'PROSTITUTION'\n",
      " 'RECOVERED VEHICLE' 'ROBBERY' 'RUNAWAY' 'SECONDARY CODES'\n",
      " 'SEX OFFENSES FORCIBLE' 'SEX OFFENSES NON FORCIBLE' 'STOLEN PROPERTY'\n",
      " 'SUICIDE' 'SUSPICIOUS OCC' 'TREA' 'TRESPASS' 'VANDALISM' 'VEHICLE THEFT'\n",
      " 'WARRANTS' 'WEAPON LAWS']\n",
      "Training balanced accuracy =  0.481273353019\n",
      "Training probabilistic accuracy =  -0.0703607413805\n"
     ]
    }
   ],
   "source": [
    "import libscores\n",
    " \n",
    "# To evaluate results with multi-class metrics, the targets must be encoded as one vs. the rest\n",
    "Y_train, C = libscores.onehot(y_train)                                   \n",
    "print 'Dimensions Y_train=', Y_train.shape, 'Class labels=', C\n",
    "assert((class_labels==C).all()) # Just to make sure the labels of the classifier are in the right order\n",
    "# Note: if all went well, you should recover public_data/iris_train.solution\n",
    "# You had it all along, but to show you some nice plots we loaded the data as a data frame so we lost it!\n",
    "\n",
    "from libscores import bac_metric \n",
    "from libscores import pac_metric \n",
    "# Predicts probabilities, a matrix patnum x classnum \n",
    "# As solution, you must use Y_train, not y_train\n",
    "y_predict_proba = clf.predict_proba(X_train)      \n",
    "print 'Training balanced accuracy = ', bac_metric(Y_train, y_predict_proba, task='multiclass.classification')\n",
    "print 'Training probabilistic accuracy = ', pac_metric(Y_train, y_predict_proba, task='multiclass.classification')"
   ]
  },
  {
   "cell_type": "markdown",
   "metadata": {},
   "source": [
    "## Unit testing"
   ]
  },
  {
   "cell_type": "markdown",
   "metadata": {},
   "source": [
    "It is <b><span style=\"color:red\">important that you test your submission files before submitting them</span></b>. All you have to do to make a submission is modify the file <code>classifier.py</code> in the <code>sample_code/</code> directory, then run this test to make sure everything works fine. This is the actual program that will be run on the server to test your submission.  The program looks for saved results and saved models in the subdirectory <code>res/</code>. If it finds them, it will use them: (1) If results are found, then are copied to the output directory; (2) If no results but a trained model is found, it is reloaded and no training occurs; (3) If nothing is found a fresh model is trained and tested."
   ]
  },
  {
   "cell_type": "code",
   "execution_count": 1,
   "metadata": {
    "collapsed": false,
    "scrolled": true
   },
   "outputs": [],
   "source": [
    "outdir = '../outputs'         # If you use result_dir as output directory, your submission will include your results"
   ]
  },
  {
   "cell_type": "code",
   "execution_count": 3,
   "metadata": {
    "collapsed": false,
    "scrolled": true
   },
   "outputs": [
    {
     "name": "stdout",
     "output_type": "stream",
     "text": [
      "Using input_dir: $datadir\n",
      "Using output_dir: B:\\LaVieEnFrance\\Master\\M2-1\\Project\\cours2\\sample\\$outdir\n",
      "WARNING: Inventory data - No data file found\n",
      "========= Zipping this directory to prepare for submit ==============\n"
     ]
    },
    {
     "name": "stderr",
     "output_type": "stream",
     "text": [
      "Traceback (most recent call last):\n",
      "  File \"run.py\", line 284, in <module>\n",
      "    data_io.zipdir(submission_filename + '.zip', \".\")\n",
      "  File \"B:\\LaVieEnFrance\\Master\\M2-1\\Project\\cours2\\sample\\sample_code\\data_io.py\", line 139, in zipdir\n",
      "    z.write(absfn, zfn)\n",
      "  File \"C:\\Anaconda2\\lib\\zipfile.py\", line 1148, in write\n",
      "    self._writecheck(zinfo)\n",
      "  File \"C:\\Anaconda2\\lib\\zipfile.py\", line 1114, in _writecheck\n",
      "    \" would require ZIP64 extensions\")\n",
      "zipfile.LargeZipFile: Filesize would require ZIP64 extensions\n"
     ]
    }
   ],
   "source": [
    "!python run.py $datadir $outdir"
   ]
  },
  {
   "cell_type": "markdown",
   "metadata": {
    "collapsed": true
   },
   "source": [
    "## Making your submission\n",
    "\n",
    "The test program <code>run.py</code> prepares your <code>zip</code> file, ready to go. You find it in the directory above where you ran your program. For large datasets, we recommend that <b><span style=\"color:red\">you do NOT bundle the data with your submission</span></b>. The data directory is passed as an argument to run.py, and it is already there on the test server."
   ]
  }
 ],
 "metadata": {
  "anaconda-cloud": {},
  "kernelspec": {
   "display_name": "Python [Root]",
   "language": "python",
   "name": "Python [Root]"
  },
  "language_info": {
   "codemirror_mode": {
    "name": "ipython",
    "version": 2
   },
   "file_extension": ".py",
   "mimetype": "text/x-python",
   "name": "python",
   "nbconvert_exporter": "python",
   "pygments_lexer": "ipython2",
   "version": "2.7.12"
  }
 },
 "nbformat": 4,
 "nbformat_minor": 0
}
